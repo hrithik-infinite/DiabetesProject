{
 "cells": [
  {
   "cell_type": "code",
   "execution_count": 1,
   "id": "christian-brisbane",
   "metadata": {},
   "outputs": [],
   "source": [
    "import pandas as pd\n",
    "import numpy as np\n",
    "import matplotlib.pyplot as plt\n",
    "%matplotlib inline"
   ]
  },
  {
   "cell_type": "code",
   "execution_count": 2,
   "id": "phantom-oliver",
   "metadata": {},
   "outputs": [],
   "source": [
    "ds = pd.read_csv('diabetes.csv')"
   ]
  },
  {
   "cell_type": "code",
   "execution_count": 3,
   "id": "practical-fellowship",
   "metadata": {},
   "outputs": [
    {
     "name": "stdout",
     "output_type": "stream",
     "text": [
      "Index(['Pregnancies', 'Glucose', 'BloodPressure', 'SkinThickness', 'Insulin',\n",
      "       'BMI', 'DiabetesPedigreeFunction', 'Age', 'Outcome'],\n",
      "      dtype='object')\n"
     ]
    }
   ],
   "source": [
    "print(ds.columns)\n"
   ]
  },
  {
   "cell_type": "code",
   "execution_count": 4,
   "id": "threaded-marriage",
   "metadata": {},
   "outputs": [
    {
     "data": {
      "text/plain": [
       "(768, 9)"
      ]
     },
     "execution_count": 4,
     "metadata": {},
     "output_type": "execute_result"
    }
   ],
   "source": [
    "ds.shape"
   ]
  },
  {
   "cell_type": "code",
   "execution_count": 5,
   "id": "decimal-minutes",
   "metadata": {},
   "outputs": [
    {
     "data": {
      "text/plain": [
       "['Pregnancies',\n",
       " 'Glucose',\n",
       " 'BloodPressure',\n",
       " 'SkinThickness',\n",
       " 'Insulin',\n",
       " 'BMI',\n",
       " 'DiabetesPedigreeFunction',\n",
       " 'Age']"
      ]
     },
     "execution_count": 5,
     "metadata": {},
     "output_type": "execute_result"
    }
   ],
   "source": [
    "col_names = list(ds.columns.values)\n",
    "col_names.remove('Outcome')\n",
    "col_names"
   ]
  },
  {
   "cell_type": "code",
   "execution_count": 6,
   "id": "copyrighted-kennedy",
   "metadata": {},
   "outputs": [
    {
     "name": "stdout",
     "output_type": "stream",
     "text": [
      "<class 'pandas.core.frame.DataFrame'>\n",
      "RangeIndex: 768 entries, 0 to 767\n",
      "Data columns (total 9 columns):\n",
      " #   Column                    Non-Null Count  Dtype  \n",
      "---  ------                    --------------  -----  \n",
      " 0   Pregnancies               768 non-null    int64  \n",
      " 1   Glucose                   768 non-null    int64  \n",
      " 2   BloodPressure             768 non-null    int64  \n",
      " 3   SkinThickness             768 non-null    int64  \n",
      " 4   Insulin                   768 non-null    int64  \n",
      " 5   BMI                       768 non-null    float64\n",
      " 6   DiabetesPedigreeFunction  768 non-null    float64\n",
      " 7   Age                       768 non-null    int64  \n",
      " 8   Outcome                   768 non-null    int64  \n",
      "dtypes: float64(2), int64(7)\n",
      "memory usage: 54.1 KB\n"
     ]
    }
   ],
   "source": [
    "ds.info()"
   ]
  },
  {
   "cell_type": "code",
   "execution_count": 7,
   "id": "acceptable-connection",
   "metadata": {},
   "outputs": [
    {
     "data": {
      "text/html": [
       "<div>\n",
       "<style scoped>\n",
       "    .dataframe tbody tr th:only-of-type {\n",
       "        vertical-align: middle;\n",
       "    }\n",
       "\n",
       "    .dataframe tbody tr th {\n",
       "        vertical-align: top;\n",
       "    }\n",
       "\n",
       "    .dataframe thead th {\n",
       "        text-align: right;\n",
       "    }\n",
       "</style>\n",
       "<table border=\"1\" class=\"dataframe\">\n",
       "  <thead>\n",
       "    <tr style=\"text-align: right;\">\n",
       "      <th></th>\n",
       "      <th>Pregnancies</th>\n",
       "      <th>Glucose</th>\n",
       "      <th>BloodPressure</th>\n",
       "      <th>SkinThickness</th>\n",
       "      <th>Insulin</th>\n",
       "      <th>BMI</th>\n",
       "      <th>DiabetesPedigreeFunction</th>\n",
       "      <th>Age</th>\n",
       "      <th>Outcome</th>\n",
       "    </tr>\n",
       "  </thead>\n",
       "  <tbody>\n",
       "    <tr>\n",
       "      <th>0</th>\n",
       "      <td>6</td>\n",
       "      <td>148</td>\n",
       "      <td>72</td>\n",
       "      <td>35</td>\n",
       "      <td>0</td>\n",
       "      <td>33.6</td>\n",
       "      <td>0.627</td>\n",
       "      <td>50</td>\n",
       "      <td>1</td>\n",
       "    </tr>\n",
       "    <tr>\n",
       "      <th>1</th>\n",
       "      <td>1</td>\n",
       "      <td>85</td>\n",
       "      <td>66</td>\n",
       "      <td>29</td>\n",
       "      <td>0</td>\n",
       "      <td>26.6</td>\n",
       "      <td>0.351</td>\n",
       "      <td>31</td>\n",
       "      <td>0</td>\n",
       "    </tr>\n",
       "    <tr>\n",
       "      <th>2</th>\n",
       "      <td>8</td>\n",
       "      <td>183</td>\n",
       "      <td>64</td>\n",
       "      <td>0</td>\n",
       "      <td>0</td>\n",
       "      <td>23.3</td>\n",
       "      <td>0.672</td>\n",
       "      <td>32</td>\n",
       "      <td>1</td>\n",
       "    </tr>\n",
       "    <tr>\n",
       "      <th>3</th>\n",
       "      <td>1</td>\n",
       "      <td>89</td>\n",
       "      <td>66</td>\n",
       "      <td>23</td>\n",
       "      <td>94</td>\n",
       "      <td>28.1</td>\n",
       "      <td>0.167</td>\n",
       "      <td>21</td>\n",
       "      <td>0</td>\n",
       "    </tr>\n",
       "    <tr>\n",
       "      <th>4</th>\n",
       "      <td>0</td>\n",
       "      <td>137</td>\n",
       "      <td>40</td>\n",
       "      <td>35</td>\n",
       "      <td>168</td>\n",
       "      <td>43.1</td>\n",
       "      <td>2.288</td>\n",
       "      <td>33</td>\n",
       "      <td>1</td>\n",
       "    </tr>\n",
       "  </tbody>\n",
       "</table>\n",
       "</div>"
      ],
      "text/plain": [
       "   Pregnancies  Glucose  BloodPressure  SkinThickness  Insulin   BMI  \\\n",
       "0            6      148             72             35        0  33.6   \n",
       "1            1       85             66             29        0  26.6   \n",
       "2            8      183             64              0        0  23.3   \n",
       "3            1       89             66             23       94  28.1   \n",
       "4            0      137             40             35      168  43.1   \n",
       "\n",
       "   DiabetesPedigreeFunction  Age  Outcome  \n",
       "0                     0.627   50        1  \n",
       "1                     0.351   31        0  \n",
       "2                     0.672   32        1  \n",
       "3                     0.167   21        0  \n",
       "4                     2.288   33        1  "
      ]
     },
     "execution_count": 7,
     "metadata": {},
     "output_type": "execute_result"
    }
   ],
   "source": [
    "ds.head()\n"
   ]
  },
  {
   "cell_type": "code",
   "execution_count": 8,
   "id": "former-indication",
   "metadata": {},
   "outputs": [
    {
     "data": {
      "text/plain": [
       "Outcome\n",
       "0    500\n",
       "1    268\n",
       "dtype: int64"
      ]
     },
     "execution_count": 8,
     "metadata": {},
     "output_type": "execute_result"
    }
   ],
   "source": [
    "ds.groupby('Outcome').size()"
   ]
  },
  {
   "cell_type": "code",
   "execution_count": 9,
   "id": "heard-letter",
   "metadata": {},
   "outputs": [],
   "source": [
    "from sklearn.model_selection import train_test_split\n",
    "from sklearn.neighbors import KNeighborsClassifier\n",
    "from sklearn.tree import DecisionTreeClassifier\n",
    "from sklearn.linear_model import LogisticRegression\n",
    "from sklearn.ensemble import RandomForestClassifier\n"
   ]
  },
  {
   "cell_type": "code",
   "execution_count": 10,
   "id": "julian-color",
   "metadata": {},
   "outputs": [],
   "source": [
    "X_train, X_test, y_train, y_test = train_test_split(ds.iloc[:,0:8],ds.iloc[:,-1],stratify=ds.iloc[:,-1], random_state=66)\n"
   ]
  },
  {
   "cell_type": "code",
   "execution_count": 11,
   "id": "industrial-trace",
   "metadata": {},
   "outputs": [],
   "source": [
    "train_accuracy = []\n",
    "test_accuracy = []\n",
    "neighbour_nos = range(1,11);"
   ]
  },
  {
   "cell_type": "code",
   "execution_count": 12,
   "id": "sustained-butler",
   "metadata": {},
   "outputs": [],
   "source": [
    "for n in neighbour_nos:\n",
    "    knn = KNeighborsClassifier(n_neighbors=n)\n",
    "    knn.fit(X_train, y_train)\n",
    "    train_accuracy.append(round(knn.score(X_train, y_train),3))\n",
    "    test_accuracy.append(round(knn.score(X_test, y_test),3))"
   ]
  },
  {
   "cell_type": "code",
   "execution_count": 13,
   "id": "general-album",
   "metadata": {},
   "outputs": [
    {
     "data": {
      "text/plain": [
       "<matplotlib.legend.Legend at 0x1fb787dab50>"
      ]
     },
     "execution_count": 13,
     "metadata": {},
     "output_type": "execute_result"
    },
    {
     "data": {
      "image/png": "[encoded data removed]",
      "text/plain": [
       "<Figure size 432x288 with 1 Axes>"
      ]
     },
     "metadata": {
      "needs_background": "light"
     },
     "output_type": "display_data"
    }
   ],
   "source": [
    "plt.plot(neighbour_nos, train_accuracy, label=\"training accuracy\")\n",
    "plt.plot(neighbour_nos, test_accuracy, label=\"test accuracy\")\n",
    "plt.ylabel(\"Accuracy\")\n",
    "plt.xlabel(\"Number of neighbours\")\n",
    "plt.legend()"
   ]
  },
  {
   "cell_type": "code",
   "execution_count": 14,
   "id": "vocal-cooper",
   "metadata": {},
   "outputs": [],
   "source": [
    "knn_acc = {'Clusters' : list(neighbour_nos),\n",
    "          'Training set Accuracy' : train_accuracy,\n",
    "          'Testing set Acuuracy' : test_accuracy}\n",
    "df = pd.DataFrame(knn_acc)"
   ]
  },
  {
   "cell_type": "code",
   "execution_count": 15,
   "id": "threatened-workshop",
   "metadata": {},
   "outputs": [
    {
     "data": {
      "text/html": [
       "<div>\n",
       "<style scoped>\n",
       "    .dataframe tbody tr th:only-of-type {\n",
       "        vertical-align: middle;\n",
       "    }\n",
       "\n",
       "    .dataframe tbody tr th {\n",
       "        vertical-align: top;\n",
       "    }\n",
       "\n",
       "    .dataframe thead th {\n",
       "        text-align: right;\n",
       "    }\n",
       "</style>\n",
       "<table border=\"1\" class=\"dataframe\">\n",
       "  <thead>\n",
       "    <tr style=\"text-align: right;\">\n",
       "      <th></th>\n",
       "      <th>Clusters</th>\n",
       "      <th>Training set Accuracy</th>\n",
       "      <th>Testing set Acuuracy</th>\n",
       "    </tr>\n",
       "  </thead>\n",
       "  <tbody>\n",
       "    <tr>\n",
       "      <th>0</th>\n",
       "      <td>1</td>\n",
       "      <td>1.000</td>\n",
       "      <td>0.688</td>\n",
       "    </tr>\n",
       "    <tr>\n",
       "      <th>1</th>\n",
       "      <td>2</td>\n",
       "      <td>0.832</td>\n",
       "      <td>0.724</td>\n",
       "    </tr>\n",
       "    <tr>\n",
       "      <th>2</th>\n",
       "      <td>3</td>\n",
       "      <td>0.833</td>\n",
       "      <td>0.698</td>\n",
       "    </tr>\n",
       "    <tr>\n",
       "      <th>3</th>\n",
       "      <td>4</td>\n",
       "      <td>0.790</td>\n",
       "      <td>0.740</td>\n",
       "    </tr>\n",
       "    <tr>\n",
       "      <th>4</th>\n",
       "      <td>5</td>\n",
       "      <td>0.790</td>\n",
       "      <td>0.740</td>\n",
       "    </tr>\n",
       "    <tr>\n",
       "      <th>5</th>\n",
       "      <td>6</td>\n",
       "      <td>0.797</td>\n",
       "      <td>0.755</td>\n",
       "    </tr>\n",
       "    <tr>\n",
       "      <th>6</th>\n",
       "      <td>7</td>\n",
       "      <td>0.788</td>\n",
       "      <td>0.750</td>\n",
       "    </tr>\n",
       "    <tr>\n",
       "      <th>7</th>\n",
       "      <td>8</td>\n",
       "      <td>0.778</td>\n",
       "      <td>0.771</td>\n",
       "    </tr>\n",
       "    <tr>\n",
       "      <th>8</th>\n",
       "      <td>9</td>\n",
       "      <td>0.792</td>\n",
       "      <td>0.776</td>\n",
       "    </tr>\n",
       "    <tr>\n",
       "      <th>9</th>\n",
       "      <td>10</td>\n",
       "      <td>0.774</td>\n",
       "      <td>0.771</td>\n",
       "    </tr>\n",
       "  </tbody>\n",
       "</table>\n",
       "</div>"
      ],
      "text/plain": [
       "   Clusters  Training set Accuracy  Testing set Acuuracy\n",
       "0         1                  1.000                 0.688\n",
       "1         2                  0.832                 0.724\n",
       "2         3                  0.833                 0.698\n",
       "3         4                  0.790                 0.740\n",
       "4         5                  0.790                 0.740\n",
       "5         6                  0.797                 0.755\n",
       "6         7                  0.788                 0.750\n",
       "7         8                  0.778                 0.771\n",
       "8         9                  0.792                 0.776\n",
       "9        10                  0.774                 0.771"
      ]
     },
     "execution_count": 15,
     "metadata": {},
     "output_type": "execute_result"
    }
   ],
   "source": [
    "df"
   ]
  },
  {
   "cell_type": "code",
   "execution_count": 16,
   "id": "exempt-waste",
   "metadata": {},
   "outputs": [],
   "source": [
    "#  overfitting till n = 3 , on adding more number of clusters the accuracy is almost"
   ]
  },
  {
   "cell_type": "code",
   "execution_count": 17,
   "id": "fitted-secret",
   "metadata": {},
   "outputs": [],
   "source": [
    "tree = DecisionTreeClassifier(random_state = 0)\n",
    "# tree.get_depth()"
   ]
  },
  {
   "cell_type": "code",
   "execution_count": 18,
   "id": "quarterly-medication",
   "metadata": {},
   "outputs": [
    {
     "data": {
      "text/plain": [
       "DecisionTreeClassifier(random_state=0)"
      ]
     },
     "execution_count": 18,
     "metadata": {},
     "output_type": "execute_result"
    }
   ],
   "source": [
    "tree.fit(X_train,y_train)"
   ]
  },
  {
   "cell_type": "code",
   "execution_count": 19,
   "id": "specific-midnight",
   "metadata": {},
   "outputs": [
    {
     "name": "stdout",
     "output_type": "stream",
     "text": [
      "1.0\n",
      "0.71\n"
     ]
    }
   ],
   "source": [
    "print(tree.score(X_train,y_train))\n",
    "print(round(tree.score(X_test,y_test),2))"
   ]
  },
  {
   "cell_type": "code",
   "execution_count": 20,
   "id": "secondary-threat",
   "metadata": {},
   "outputs": [],
   "source": [
    "# overfitting"
   ]
  },
  {
   "cell_type": "code",
   "execution_count": 21,
   "id": "going-string",
   "metadata": {},
   "outputs": [
    {
     "data": {
      "text/plain": [
       "13"
      ]
     },
     "execution_count": 21,
     "metadata": {},
     "output_type": "execute_result"
    }
   ],
   "source": [
    "tree.get_depth()"
   ]
  },
  {
   "cell_type": "code",
   "execution_count": 22,
   "id": "swiss-contamination",
   "metadata": {},
   "outputs": [],
   "source": [
    "tree_dep = range(1,14)\n",
    "tree_test = []\n",
    "tree_train = []"
   ]
  },
  {
   "cell_type": "code",
   "execution_count": 23,
   "id": "atlantic-venice",
   "metadata": {},
   "outputs": [],
   "source": [
    "for i in tree_dep:\n",
    "    tree = DecisionTreeClassifier(max_depth = i,random_state = 0)\n",
    "    tree.fit(X_train,y_train)\n",
    "    tree_train.append(round(tree.score(X_train,y_train),3))\n",
    "    tree_test.append(round(tree.score(X_test,y_test),3))"
   ]
  },
  {
   "cell_type": "code",
   "execution_count": 24,
   "id": "superb-switzerland",
   "metadata": {},
   "outputs": [],
   "source": [
    "tree_acc = {'Depth' : list(tree_dep),\n",
    "           'Training set Accuracy' : tree_train,\n",
    "           'Testing Set Accuracy' : tree_test}\n",
    "\n",
    "tree_df = pd.DataFrame(tree_acc)"
   ]
  },
  {
   "cell_type": "code",
   "execution_count": 25,
   "id": "realistic-sweden",
   "metadata": {},
   "outputs": [
    {
     "data": {
      "text/html": [
       "<div>\n",
       "<style scoped>\n",
       "    .dataframe tbody tr th:only-of-type {\n",
       "        vertical-align: middle;\n",
       "    }\n",
       "\n",
       "    .dataframe tbody tr th {\n",
       "        vertical-align: top;\n",
       "    }\n",
       "\n",
       "    .dataframe thead th {\n",
       "        text-align: right;\n",
       "    }\n",
       "</style>\n",
       "<table border=\"1\" class=\"dataframe\">\n",
       "  <thead>\n",
       "    <tr style=\"text-align: right;\">\n",
       "      <th></th>\n",
       "      <th>Depth</th>\n",
       "      <th>Training set Accuracy</th>\n",
       "      <th>Testing Set Accuracy</th>\n",
       "    </tr>\n",
       "  </thead>\n",
       "  <tbody>\n",
       "    <tr>\n",
       "      <th>0</th>\n",
       "      <td>1</td>\n",
       "      <td>0.726</td>\n",
       "      <td>0.708</td>\n",
       "    </tr>\n",
       "    <tr>\n",
       "      <th>1</th>\n",
       "      <td>2</td>\n",
       "      <td>0.773</td>\n",
       "      <td>0.740</td>\n",
       "    </tr>\n",
       "    <tr>\n",
       "      <th>2</th>\n",
       "      <td>3</td>\n",
       "      <td>0.773</td>\n",
       "      <td>0.740</td>\n",
       "    </tr>\n",
       "    <tr>\n",
       "      <th>3</th>\n",
       "      <td>4</td>\n",
       "      <td>0.807</td>\n",
       "      <td>0.734</td>\n",
       "    </tr>\n",
       "    <tr>\n",
       "      <th>4</th>\n",
       "      <td>5</td>\n",
       "      <td>0.845</td>\n",
       "      <td>0.750</td>\n",
       "    </tr>\n",
       "    <tr>\n",
       "      <th>5</th>\n",
       "      <td>6</td>\n",
       "      <td>0.875</td>\n",
       "      <td>0.734</td>\n",
       "    </tr>\n",
       "    <tr>\n",
       "      <th>6</th>\n",
       "      <td>7</td>\n",
       "      <td>0.908</td>\n",
       "      <td>0.740</td>\n",
       "    </tr>\n",
       "    <tr>\n",
       "      <th>7</th>\n",
       "      <td>8</td>\n",
       "      <td>0.927</td>\n",
       "      <td>0.740</td>\n",
       "    </tr>\n",
       "    <tr>\n",
       "      <th>8</th>\n",
       "      <td>9</td>\n",
       "      <td>0.955</td>\n",
       "      <td>0.724</td>\n",
       "    </tr>\n",
       "    <tr>\n",
       "      <th>9</th>\n",
       "      <td>10</td>\n",
       "      <td>0.972</td>\n",
       "      <td>0.724</td>\n",
       "    </tr>\n",
       "    <tr>\n",
       "      <th>10</th>\n",
       "      <td>11</td>\n",
       "      <td>0.990</td>\n",
       "      <td>0.714</td>\n",
       "    </tr>\n",
       "    <tr>\n",
       "      <th>11</th>\n",
       "      <td>12</td>\n",
       "      <td>0.997</td>\n",
       "      <td>0.708</td>\n",
       "    </tr>\n",
       "    <tr>\n",
       "      <th>12</th>\n",
       "      <td>13</td>\n",
       "      <td>1.000</td>\n",
       "      <td>0.714</td>\n",
       "    </tr>\n",
       "  </tbody>\n",
       "</table>\n",
       "</div>"
      ],
      "text/plain": [
       "    Depth  Training set Accuracy  Testing Set Accuracy\n",
       "0       1                  0.726                 0.708\n",
       "1       2                  0.773                 0.740\n",
       "2       3                  0.773                 0.740\n",
       "3       4                  0.807                 0.734\n",
       "4       5                  0.845                 0.750\n",
       "5       6                  0.875                 0.734\n",
       "6       7                  0.908                 0.740\n",
       "7       8                  0.927                 0.740\n",
       "8       9                  0.955                 0.724\n",
       "9      10                  0.972                 0.724\n",
       "10     11                  0.990                 0.714\n",
       "11     12                  0.997                 0.708\n",
       "12     13                  1.000                 0.714"
      ]
     },
     "execution_count": 25,
     "metadata": {},
     "output_type": "execute_result"
    }
   ],
   "source": [
    "tree_df"
   ]
  },
  {
   "cell_type": "code",
   "execution_count": 26,
   "id": "intense-logistics",
   "metadata": {},
   "outputs": [
    {
     "data": {
      "text/plain": [
       "<matplotlib.legend.Legend at 0x1fb788dd8b0>"
      ]
     },
     "execution_count": 26,
     "metadata": {},
     "output_type": "execute_result"
    },
    {
     "data": {
      "image/png": "[encoded data removed]",
      "text/plain": [
       "<Figure size 432x288 with 1 Axes>"
      ]
     },
     "metadata": {
      "needs_background": "light"
     },
     "output_type": "display_data"
    }
   ],
   "source": [
    "plt.plot(tree_dep, tree_train, label=\"training accuracy\")\n",
    "plt.plot(tree_dep, tree_test, label=\"test accuracy\")\n",
    "plt.ylabel(\"Accuracy\")\n",
    "plt.xlabel(\"Max Depth\")\n",
    "plt.legend()"
   ]
  },
  {
   "cell_type": "code",
   "execution_count": 27,
   "id": "strong-buying",
   "metadata": {},
   "outputs": [],
   "source": [
    "log_mod = LogisticRegression(random_state = 0, max_iter =200)"
   ]
  },
  {
   "cell_type": "code",
   "execution_count": 28,
   "id": "visible-bennett",
   "metadata": {},
   "outputs": [
    {
     "data": {
      "text/plain": [
       "LogisticRegression(max_iter=200, random_state=0)"
      ]
     },
     "execution_count": 28,
     "metadata": {},
     "output_type": "execute_result"
    }
   ],
   "source": [
    "log_mod.fit(X_train,y_train)"
   ]
  },
  {
   "cell_type": "code",
   "execution_count": 29,
   "id": "higher-track",
   "metadata": {},
   "outputs": [
    {
     "name": "stdout",
     "output_type": "stream",
     "text": [
      "0.7847222222222222\n",
      "0.7708333333333334\n"
     ]
    }
   ],
   "source": [
    "print(log_mod.score(X_train,y_train))\n",
    "print(log_mod.score(X_test,y_test))"
   ]
  },
  {
   "cell_type": "code",
   "execution_count": 30,
   "id": "jewish-flower",
   "metadata": {},
   "outputs": [],
   "source": [
    "iter = range(200,1001,100)\n",
    "log_train =[]\n",
    "log_test = []\n"
   ]
  },
  {
   "cell_type": "code",
   "execution_count": 31,
   "id": "lucky-communication",
   "metadata": {},
   "outputs": [],
   "source": [
    "for i in iter:\n",
    "    log_mod = LogisticRegression(random_state = 0, max_iter =i)\n",
    "    log_mod.fit(X_train,y_train)\n",
    "    log_train.append(round(log_mod.score(X_train,y_train),3))\n",
    "    log_test.append(round(log_mod.score(X_test,y_test),3))"
   ]
  },
  {
   "cell_type": "code",
   "execution_count": 32,
   "id": "choice-capability",
   "metadata": {},
   "outputs": [],
   "source": [
    "log_df = {'No. of iter' : list(iter),\n",
    "         'Training set accuracy' : log_train,\n",
    "         'Test set accuracy' : log_test}\n",
    "lg_df = pd.DataFrame(log_df)"
   ]
  },
  {
   "cell_type": "code",
   "execution_count": 33,
   "id": "saved-monitor",
   "metadata": {},
   "outputs": [
    {
     "data": {
      "text/html": [
       "<div>\n",
       "<style scoped>\n",
       "    .dataframe tbody tr th:only-of-type {\n",
       "        vertical-align: middle;\n",
       "    }\n",
       "\n",
       "    .dataframe tbody tr th {\n",
       "        vertical-align: top;\n",
       "    }\n",
       "\n",
       "    .dataframe thead th {\n",
       "        text-align: right;\n",
       "    }\n",
       "</style>\n",
       "<table border=\"1\" class=\"dataframe\">\n",
       "  <thead>\n",
       "    <tr style=\"text-align: right;\">\n",
       "      <th></th>\n",
       "      <th>No. of iter</th>\n",
       "      <th>Training set accuracy</th>\n",
       "      <th>Test set accuracy</th>\n",
       "    </tr>\n",
       "  </thead>\n",
       "  <tbody>\n",
       "    <tr>\n",
       "      <th>0</th>\n",
       "      <td>200</td>\n",
       "      <td>0.785</td>\n",
       "      <td>0.771</td>\n",
       "    </tr>\n",
       "    <tr>\n",
       "      <th>1</th>\n",
       "      <td>300</td>\n",
       "      <td>0.785</td>\n",
       "      <td>0.771</td>\n",
       "    </tr>\n",
       "    <tr>\n",
       "      <th>2</th>\n",
       "      <td>400</td>\n",
       "      <td>0.785</td>\n",
       "      <td>0.771</td>\n",
       "    </tr>\n",
       "    <tr>\n",
       "      <th>3</th>\n",
       "      <td>500</td>\n",
       "      <td>0.785</td>\n",
       "      <td>0.771</td>\n",
       "    </tr>\n",
       "    <tr>\n",
       "      <th>4</th>\n",
       "      <td>600</td>\n",
       "      <td>0.785</td>\n",
       "      <td>0.771</td>\n",
       "    </tr>\n",
       "    <tr>\n",
       "      <th>5</th>\n",
       "      <td>700</td>\n",
       "      <td>0.785</td>\n",
       "      <td>0.771</td>\n",
       "    </tr>\n",
       "    <tr>\n",
       "      <th>6</th>\n",
       "      <td>800</td>\n",
       "      <td>0.785</td>\n",
       "      <td>0.771</td>\n",
       "    </tr>\n",
       "    <tr>\n",
       "      <th>7</th>\n",
       "      <td>900</td>\n",
       "      <td>0.785</td>\n",
       "      <td>0.771</td>\n",
       "    </tr>\n",
       "    <tr>\n",
       "      <th>8</th>\n",
       "      <td>1000</td>\n",
       "      <td>0.785</td>\n",
       "      <td>0.771</td>\n",
       "    </tr>\n",
       "  </tbody>\n",
       "</table>\n",
       "</div>"
      ],
      "text/plain": [
       "   No. of iter  Training set accuracy  Test set accuracy\n",
       "0          200                  0.785              0.771\n",
       "1          300                  0.785              0.771\n",
       "2          400                  0.785              0.771\n",
       "3          500                  0.785              0.771\n",
       "4          600                  0.785              0.771\n",
       "5          700                  0.785              0.771\n",
       "6          800                  0.785              0.771\n",
       "7          900                  0.785              0.771\n",
       "8         1000                  0.785              0.771"
      ]
     },
     "execution_count": 33,
     "metadata": {},
     "output_type": "execute_result"
    }
   ],
   "source": [
    "lg_df"
   ]
  },
  {
   "cell_type": "code",
   "execution_count": 34,
   "id": "committed-laptop",
   "metadata": {},
   "outputs": [],
   "source": [
    "rf_mod = RandomForestClassifier(n_estimators = 1000,random_state = 0)"
   ]
  },
  {
   "cell_type": "code",
   "execution_count": 35,
   "id": "bizarre-employer",
   "metadata": {},
   "outputs": [
    {
     "data": {
      "text/plain": [
       "RandomForestClassifier(n_estimators=1000, random_state=0)"
      ]
     },
     "execution_count": 35,
     "metadata": {},
     "output_type": "execute_result"
    }
   ],
   "source": [
    "rf_mod.fit(X_train,y_train)"
   ]
  },
  {
   "cell_type": "code",
   "execution_count": 36,
   "id": "sixth-madison",
   "metadata": {},
   "outputs": [
    {
     "data": {
      "text/plain": [
       "1.0"
      ]
     },
     "execution_count": 36,
     "metadata": {},
     "output_type": "execute_result"
    }
   ],
   "source": [
    "rf_mod.score(X_train,y_train)"
   ]
  },
  {
   "cell_type": "code",
   "execution_count": 37,
   "id": "lesbian-quebec",
   "metadata": {},
   "outputs": [
    {
     "data": {
      "text/plain": [
       "0.796875"
      ]
     },
     "execution_count": 37,
     "metadata": {},
     "output_type": "execute_result"
    }
   ],
   "source": [
    "rf_mod.score(X_test,y_test)"
   ]
  },
  {
   "cell_type": "code",
   "execution_count": 38,
   "id": "crude-ranking",
   "metadata": {},
   "outputs": [],
   "source": [
    "rf_iter = range(100,1001,100)\n",
    "rf_train =[]\n",
    "rf_test = []"
   ]
  },
  {
   "cell_type": "code",
   "execution_count": 39,
   "id": "developmental-rubber",
   "metadata": {},
   "outputs": [],
   "source": [
    "for i in rf_iter:\n",
    "    rf_mod = RandomForestClassifier(n_estimators = i,random_state = 0)\n",
    "    rf_mod.fit(X_train,y_train)\n",
    "    rf_train.append(round(rf_mod.score(X_train,y_train),3))\n",
    "    rf_test.append(round(rf_mod.score(X_test,y_test),3))"
   ]
  },
  {
   "cell_type": "code",
   "execution_count": 40,
   "id": "hundred-jersey",
   "metadata": {},
   "outputs": [],
   "source": [
    "rf_df = {'No. of trees' : list(rf_iter),\n",
    "         'Training set accuracy' : rf_train,\n",
    "         'Test set accuracy' : rf_test}\n",
    "rff_df = pd.DataFrame(rf_df)"
   ]
  },
  {
   "cell_type": "code",
   "execution_count": 41,
   "id": "transparent-canal",
   "metadata": {},
   "outputs": [
    {
     "data": {
      "text/html": [
       "<div>\n",
       "<style scoped>\n",
       "    .dataframe tbody tr th:only-of-type {\n",
       "        vertical-align: middle;\n",
       "    }\n",
       "\n",
       "    .dataframe tbody tr th {\n",
       "        vertical-align: top;\n",
       "    }\n",
       "\n",
       "    .dataframe thead th {\n",
       "        text-align: right;\n",
       "    }\n",
       "</style>\n",
       "<table border=\"1\" class=\"dataframe\">\n",
       "  <thead>\n",
       "    <tr style=\"text-align: right;\">\n",
       "      <th></th>\n",
       "      <th>No. of trees</th>\n",
       "      <th>Training set accuracy</th>\n",
       "      <th>Test set accuracy</th>\n",
       "    </tr>\n",
       "  </thead>\n",
       "  <tbody>\n",
       "    <tr>\n",
       "      <th>0</th>\n",
       "      <td>100</td>\n",
       "      <td>1.0</td>\n",
       "      <td>0.786</td>\n",
       "    </tr>\n",
       "    <tr>\n",
       "      <th>1</th>\n",
       "      <td>200</td>\n",
       "      <td>1.0</td>\n",
       "      <td>0.786</td>\n",
       "    </tr>\n",
       "    <tr>\n",
       "      <th>2</th>\n",
       "      <td>300</td>\n",
       "      <td>1.0</td>\n",
       "      <td>0.792</td>\n",
       "    </tr>\n",
       "    <tr>\n",
       "      <th>3</th>\n",
       "      <td>400</td>\n",
       "      <td>1.0</td>\n",
       "      <td>0.786</td>\n",
       "    </tr>\n",
       "    <tr>\n",
       "      <th>4</th>\n",
       "      <td>500</td>\n",
       "      <td>1.0</td>\n",
       "      <td>0.797</td>\n",
       "    </tr>\n",
       "    <tr>\n",
       "      <th>5</th>\n",
       "      <td>600</td>\n",
       "      <td>1.0</td>\n",
       "      <td>0.797</td>\n",
       "    </tr>\n",
       "    <tr>\n",
       "      <th>6</th>\n",
       "      <td>700</td>\n",
       "      <td>1.0</td>\n",
       "      <td>0.797</td>\n",
       "    </tr>\n",
       "    <tr>\n",
       "      <th>7</th>\n",
       "      <td>800</td>\n",
       "      <td>1.0</td>\n",
       "      <td>0.797</td>\n",
       "    </tr>\n",
       "    <tr>\n",
       "      <th>8</th>\n",
       "      <td>900</td>\n",
       "      <td>1.0</td>\n",
       "      <td>0.797</td>\n",
       "    </tr>\n",
       "    <tr>\n",
       "      <th>9</th>\n",
       "      <td>1000</td>\n",
       "      <td>1.0</td>\n",
       "      <td>0.797</td>\n",
       "    </tr>\n",
       "  </tbody>\n",
       "</table>\n",
       "</div>"
      ],
      "text/plain": [
       "   No. of trees  Training set accuracy  Test set accuracy\n",
       "0           100                    1.0              0.786\n",
       "1           200                    1.0              0.786\n",
       "2           300                    1.0              0.792\n",
       "3           400                    1.0              0.786\n",
       "4           500                    1.0              0.797\n",
       "5           600                    1.0              0.797\n",
       "6           700                    1.0              0.797\n",
       "7           800                    1.0              0.797\n",
       "8           900                    1.0              0.797\n",
       "9          1000                    1.0              0.797"
      ]
     },
     "execution_count": 41,
     "metadata": {},
     "output_type": "execute_result"
    }
   ],
   "source": [
    "rff_df"
   ]
  },
  {
   "cell_type": "code",
   "execution_count": 42,
   "id": "painted-zambia",
   "metadata": {},
   "outputs": [],
   "source": [
    "rf_iter1 = range(1,11)\n",
    "rf_train1 =[]\n",
    "rf_test1 = []"
   ]
  },
  {
   "cell_type": "code",
   "execution_count": 43,
   "id": "endangered-mobility",
   "metadata": {},
   "outputs": [],
   "source": [
    "for i in rf_iter1:\n",
    "    rf_mod = RandomForestClassifier(n_estimators = 500,max_depth = i,random_state = 0)\n",
    "    rf_mod.fit(X_train,y_train)\n",
    "    rf_train1.append(round(rf_mod.score(X_train,y_train),3))\n",
    "    rf_test1.append(round(rf_mod.score(X_test,y_test),3))"
   ]
  },
  {
   "cell_type": "code",
   "execution_count": 44,
   "id": "nervous-participant",
   "metadata": {},
   "outputs": [],
   "source": [
    "rf_df1 = {'No. of trees' : list(rf_iter1),\n",
    "         'Training set accuracy' : rf_train1,\n",
    "         'Test set accuracy' : rf_test1}\n",
    "rff_df1 = pd.DataFrame(rf_df1)"
   ]
  },
  {
   "cell_type": "code",
   "execution_count": 45,
   "id": "smart-territory",
   "metadata": {},
   "outputs": [
    {
     "data": {
      "text/html": [
       "<div>\n",
       "<style scoped>\n",
       "    .dataframe tbody tr th:only-of-type {\n",
       "        vertical-align: middle;\n",
       "    }\n",
       "\n",
       "    .dataframe tbody tr th {\n",
       "        vertical-align: top;\n",
       "    }\n",
       "\n",
       "    .dataframe thead th {\n",
       "        text-align: right;\n",
       "    }\n",
       "</style>\n",
       "<table border=\"1\" class=\"dataframe\">\n",
       "  <thead>\n",
       "    <tr style=\"text-align: right;\">\n",
       "      <th></th>\n",
       "      <th>No. of trees</th>\n",
       "      <th>Training set accuracy</th>\n",
       "      <th>Test set accuracy</th>\n",
       "    </tr>\n",
       "  </thead>\n",
       "  <tbody>\n",
       "    <tr>\n",
       "      <th>0</th>\n",
       "      <td>1</td>\n",
       "      <td>0.701</td>\n",
       "      <td>0.693</td>\n",
       "    </tr>\n",
       "    <tr>\n",
       "      <th>1</th>\n",
       "      <td>2</td>\n",
       "      <td>0.773</td>\n",
       "      <td>0.755</td>\n",
       "    </tr>\n",
       "    <tr>\n",
       "      <th>2</th>\n",
       "      <td>3</td>\n",
       "      <td>0.799</td>\n",
       "      <td>0.745</td>\n",
       "    </tr>\n",
       "    <tr>\n",
       "      <th>3</th>\n",
       "      <td>4</td>\n",
       "      <td>0.828</td>\n",
       "      <td>0.750</td>\n",
       "    </tr>\n",
       "    <tr>\n",
       "      <th>4</th>\n",
       "      <td>5</td>\n",
       "      <td>0.844</td>\n",
       "      <td>0.771</td>\n",
       "    </tr>\n",
       "    <tr>\n",
       "      <th>5</th>\n",
       "      <td>6</td>\n",
       "      <td>0.889</td>\n",
       "      <td>0.776</td>\n",
       "    </tr>\n",
       "    <tr>\n",
       "      <th>6</th>\n",
       "      <td>7</td>\n",
       "      <td>0.939</td>\n",
       "      <td>0.766</td>\n",
       "    </tr>\n",
       "    <tr>\n",
       "      <th>7</th>\n",
       "      <td>8</td>\n",
       "      <td>0.969</td>\n",
       "      <td>0.771</td>\n",
       "    </tr>\n",
       "    <tr>\n",
       "      <th>8</th>\n",
       "      <td>9</td>\n",
       "      <td>0.984</td>\n",
       "      <td>0.781</td>\n",
       "    </tr>\n",
       "    <tr>\n",
       "      <th>9</th>\n",
       "      <td>10</td>\n",
       "      <td>0.998</td>\n",
       "      <td>0.797</td>\n",
       "    </tr>\n",
       "  </tbody>\n",
       "</table>\n",
       "</div>"
      ],
      "text/plain": [
       "   No. of trees  Training set accuracy  Test set accuracy\n",
       "0             1                  0.701              0.693\n",
       "1             2                  0.773              0.755\n",
       "2             3                  0.799              0.745\n",
       "3             4                  0.828              0.750\n",
       "4             5                  0.844              0.771\n",
       "5             6                  0.889              0.776\n",
       "6             7                  0.939              0.766\n",
       "7             8                  0.969              0.771\n",
       "8             9                  0.984              0.781\n",
       "9            10                  0.998              0.797"
      ]
     },
     "execution_count": 45,
     "metadata": {},
     "output_type": "execute_result"
    }
   ],
   "source": [
    "rff_df1"
   ]
  },
  {
   "cell_type": "code",
   "execution_count": 46,
   "id": "attended-planet",
   "metadata": {},
   "outputs": [
    {
     "data": {
      "text/plain": [
       "<matplotlib.legend.Legend at 0x1fb799b6910>"
      ]
     },
     "execution_count": 46,
     "metadata": {},
     "output_type": "execute_result"
    },
    {
     "data": {
      "image/png": "[encoded data removed]",
      "text/plain": [
       "<Figure size 432x288 with 1 Axes>"
      ]
     },
     "metadata": {
      "needs_background": "light"
     },
     "output_type": "display_data"
    }
   ],
   "source": [
    "plt.plot(rf_iter1, rf_train1, label=\"training accuracy\")\n",
    "plt.plot(rf_iter1, rf_test1, label=\"test accuracy\")\n",
    "plt.ylabel(\"Accuracy\")\n",
    "plt.xlabel(\"Max Depth\")\n",
    "plt.legend()"
   ]
  },
  {
   "cell_type": "code",
   "execution_count": 47,
   "id": "renewable-lincoln",
   "metadata": {},
   "outputs": [],
   "source": [
    "# we will finally use logistic regression\n"
   ]
  },
  {
   "cell_type": "code",
   "execution_count": 48,
   "id": "remarkable-kingdom",
   "metadata": {},
   "outputs": [],
   "source": [
    "# type(log_mod.coef_)"
   ]
  },
  {
   "cell_type": "code",
   "execution_count": 49,
   "id": "narrative-fifteen",
   "metadata": {},
   "outputs": [],
   "source": [
    "feat_imp = {'Feature name' : np.array(col_names),\n",
    "           'feature imp' : log_mod.coef_[0]}\n",
    "fea_imp = pd.DataFrame(feat_imp)"
   ]
  },
  {
   "cell_type": "code",
   "execution_count": 50,
   "id": "controlled-raise",
   "metadata": {},
   "outputs": [],
   "source": [
    "# len(log_mod.coef_[0])\n",
    "# len(np.array(col_names))"
   ]
  },
  {
   "cell_type": "code",
   "execution_count": 51,
   "id": "dimensional-above",
   "metadata": {},
   "outputs": [
    {
     "data": {
      "text/html": [
       "<div>\n",
       "<style scoped>\n",
       "    .dataframe tbody tr th:only-of-type {\n",
       "        vertical-align: middle;\n",
       "    }\n",
       "\n",
       "    .dataframe tbody tr th {\n",
       "        vertical-align: top;\n",
       "    }\n",
       "\n",
       "    .dataframe thead th {\n",
       "        text-align: right;\n",
       "    }\n",
       "</style>\n",
       "<table border=\"1\" class=\"dataframe\">\n",
       "  <thead>\n",
       "    <tr style=\"text-align: right;\">\n",
       "      <th></th>\n",
       "      <th>Feature name</th>\n",
       "      <th>feature imp</th>\n",
       "    </tr>\n",
       "  </thead>\n",
       "  <tbody>\n",
       "    <tr>\n",
       "      <th>0</th>\n",
       "      <td>Pregnancies</td>\n",
       "      <td>0.107328</td>\n",
       "    </tr>\n",
       "    <tr>\n",
       "      <th>1</th>\n",
       "      <td>Glucose</td>\n",
       "      <td>0.035946</td>\n",
       "    </tr>\n",
       "    <tr>\n",
       "      <th>2</th>\n",
       "      <td>BloodPressure</td>\n",
       "      <td>-0.011239</td>\n",
       "    </tr>\n",
       "    <tr>\n",
       "      <th>3</th>\n",
       "      <td>SkinThickness</td>\n",
       "      <td>-0.001236</td>\n",
       "    </tr>\n",
       "    <tr>\n",
       "      <th>4</th>\n",
       "      <td>Insulin</td>\n",
       "      <td>-0.001013</td>\n",
       "    </tr>\n",
       "    <tr>\n",
       "      <th>5</th>\n",
       "      <td>BMI</td>\n",
       "      <td>0.093973</td>\n",
       "    </tr>\n",
       "    <tr>\n",
       "      <th>6</th>\n",
       "      <td>DiabetesPedigreeFunction</td>\n",
       "      <td>0.823516</td>\n",
       "    </tr>\n",
       "    <tr>\n",
       "      <th>7</th>\n",
       "      <td>Age</td>\n",
       "      <td>0.007814</td>\n",
       "    </tr>\n",
       "  </tbody>\n",
       "</table>\n",
       "</div>"
      ],
      "text/plain": [
       "               Feature name  feature imp\n",
       "0               Pregnancies     0.107328\n",
       "1                   Glucose     0.035946\n",
       "2             BloodPressure    -0.011239\n",
       "3             SkinThickness    -0.001236\n",
       "4                   Insulin    -0.001013\n",
       "5                       BMI     0.093973\n",
       "6  DiabetesPedigreeFunction     0.823516\n",
       "7                       Age     0.007814"
      ]
     },
     "execution_count": 51,
     "metadata": {},
     "output_type": "execute_result"
    }
   ],
   "source": [
    "fea_imp"
   ]
  },
  {
   "cell_type": "code",
   "execution_count": 52,
   "id": "marine-involvement",
   "metadata": {},
   "outputs": [
    {
     "data": {
      "text/plain": [
       "<BarContainer object of 8 artists>"
      ]
     },
     "execution_count": 52,
     "metadata": {},
     "output_type": "execute_result"
    },
    {
     "data": {
      "image/png": "[encoded data removed]",
      "text/plain": [
       "<Figure size 432x288 with 1 Axes>"
      ]
     },
     "metadata": {
      "needs_background": "light"
     },
     "output_type": "display_data"
    }
   ],
   "source": [
    "plt.barh(fea_imp['Feature name'],fea_imp['feature imp'])"
   ]
  },
  {
   "cell_type": "markdown",
   "id": "built-translation",
   "metadata": {},
   "source": [
    "# Final model and everything\n"
   ]
  },
  {
   "cell_type": "code",
   "execution_count": 53,
   "id": "knowing-vatican",
   "metadata": {},
   "outputs": [],
   "source": [
    "log_mod = LogisticRegression(random_state = 0, max_iter =200)"
   ]
  },
  {
   "cell_type": "code",
   "execution_count": 54,
   "id": "statutory-edinburgh",
   "metadata": {},
   "outputs": [
    {
     "data": {
      "text/plain": [
       "LogisticRegression(max_iter=200, random_state=0)"
      ]
     },
     "execution_count": 54,
     "metadata": {},
     "output_type": "execute_result"
    }
   ],
   "source": [
    "log_mod.fit(X_train,y_train)"
   ]
  },
  {
   "cell_type": "code",
   "execution_count": 55,
   "id": "statutory-pasta",
   "metadata": {},
   "outputs": [
    {
     "name": "stdout",
     "output_type": "stream",
     "text": [
      "0.7847222222222222\n",
      "0.7708333333333334\n"
     ]
    }
   ],
   "source": [
    "print(log_mod.score(X_train,y_train))\n",
    "print(log_mod.score(X_test,y_test))"
   ]
  },
  {
   "cell_type": "code",
   "execution_count": 56,
   "id": "compressed-freight",
   "metadata": {},
   "outputs": [],
   "source": [
    "iter = range(200,1001,100)\n",
    "log_train =[]\n",
    "log_test = []\n"
   ]
  },
  {
   "cell_type": "code",
   "execution_count": 57,
   "id": "underlying-literacy",
   "metadata": {},
   "outputs": [],
   "source": [
    "for i in iter:\n",
    "    log_mod = LogisticRegression(random_state = 0, max_iter =i)\n",
    "    log_mod.fit(X_train,y_train)\n",
    "    log_train.append(round(log_mod.score(X_train,y_train),3))\n",
    "    log_test.append(round(log_mod.score(X_test,y_test),3))"
   ]
  },
  {
   "cell_type": "code",
   "execution_count": 58,
   "id": "little-optimum",
   "metadata": {},
   "outputs": [
    {
     "data": {
      "text/html": [
       "<div>\n",
       "<style scoped>\n",
       "    .dataframe tbody tr th:only-of-type {\n",
       "        vertical-align: middle;\n",
       "    }\n",
       "\n",
       "    .dataframe tbody tr th {\n",
       "        vertical-align: top;\n",
       "    }\n",
       "\n",
       "    .dataframe thead th {\n",
       "        text-align: right;\n",
       "    }\n",
       "</style>\n",
       "<table border=\"1\" class=\"dataframe\">\n",
       "  <thead>\n",
       "    <tr style=\"text-align: right;\">\n",
       "      <th></th>\n",
       "      <th>No. of iter</th>\n",
       "      <th>Training set accuracy</th>\n",
       "      <th>Test set accuracy</th>\n",
       "    </tr>\n",
       "  </thead>\n",
       "  <tbody>\n",
       "    <tr>\n",
       "      <th>0</th>\n",
       "      <td>200</td>\n",
       "      <td>0.785</td>\n",
       "      <td>0.771</td>\n",
       "    </tr>\n",
       "    <tr>\n",
       "      <th>1</th>\n",
       "      <td>300</td>\n",
       "      <td>0.785</td>\n",
       "      <td>0.771</td>\n",
       "    </tr>\n",
       "    <tr>\n",
       "      <th>2</th>\n",
       "      <td>400</td>\n",
       "      <td>0.785</td>\n",
       "      <td>0.771</td>\n",
       "    </tr>\n",
       "    <tr>\n",
       "      <th>3</th>\n",
       "      <td>500</td>\n",
       "      <td>0.785</td>\n",
       "      <td>0.771</td>\n",
       "    </tr>\n",
       "    <tr>\n",
       "      <th>4</th>\n",
       "      <td>600</td>\n",
       "      <td>0.785</td>\n",
       "      <td>0.771</td>\n",
       "    </tr>\n",
       "    <tr>\n",
       "      <th>5</th>\n",
       "      <td>700</td>\n",
       "      <td>0.785</td>\n",
       "      <td>0.771</td>\n",
       "    </tr>\n",
       "    <tr>\n",
       "      <th>6</th>\n",
       "      <td>800</td>\n",
       "      <td>0.785</td>\n",
       "      <td>0.771</td>\n",
       "    </tr>\n",
       "    <tr>\n",
       "      <th>7</th>\n",
       "      <td>900</td>\n",
       "      <td>0.785</td>\n",
       "      <td>0.771</td>\n",
       "    </tr>\n",
       "    <tr>\n",
       "      <th>8</th>\n",
       "      <td>1000</td>\n",
       "      <td>0.785</td>\n",
       "      <td>0.771</td>\n",
       "    </tr>\n",
       "  </tbody>\n",
       "</table>\n",
       "</div>"
      ],
      "text/plain": [
       "   No. of iter  Training set accuracy  Test set accuracy\n",
       "0          200                  0.785              0.771\n",
       "1          300                  0.785              0.771\n",
       "2          400                  0.785              0.771\n",
       "3          500                  0.785              0.771\n",
       "4          600                  0.785              0.771\n",
       "5          700                  0.785              0.771\n",
       "6          800                  0.785              0.771\n",
       "7          900                  0.785              0.771\n",
       "8         1000                  0.785              0.771"
      ]
     },
     "execution_count": 58,
     "metadata": {},
     "output_type": "execute_result"
    }
   ],
   "source": [
    "log_df = {'No. of iter' : list(iter),\n",
    "         'Training set accuracy' : log_train,\n",
    "         'Test set accuracy' : log_test}\n",
    "lg_df = pd.DataFrame(log_df)\n",
    "lg_df"
   ]
  },
  {
   "cell_type": "markdown",
   "id": "painted-baker",
   "metadata": {},
   "source": [
    "# Tuning hyperparameters"
   ]
  },
  {
   "cell_type": "code",
   "execution_count": 59,
   "id": "editorial-remark",
   "metadata": {},
   "outputs": [],
   "source": [
    "from sklearn.model_selection import RepeatedStratifiedKFold\n",
    "from sklearn.model_selection import GridSearchCV"
   ]
  },
  {
   "cell_type": "code",
   "execution_count": 60,
   "id": "worst-bench",
   "metadata": {},
   "outputs": [],
   "source": [
    "model = LogisticRegression()\n",
    "solvers = ['newton-cg', 'lbfgs', 'liblinear']\n",
    "penalty = ['l2']\n",
    "c_values = [100, 10, 1.0, 0.1, 0.01]\n",
    "iterations = [500]"
   ]
  },
  {
   "cell_type": "code",
   "execution_count": 61,
   "id": "future-spray",
   "metadata": {},
   "outputs": [],
   "source": [
    "grid = dict(solver = solvers,penalty = penalty,C=c_values,max_iter = iterations)\n"
   ]
  },
  {
   "cell_type": "code",
   "execution_count": 62,
   "id": "thorough-password",
   "metadata": {},
   "outputs": [],
   "source": [
    "# cv = RepeatedStratifiedKFold(n_splits = 10)"
   ]
  },
  {
   "cell_type": "code",
   "execution_count": 63,
   "id": "dress-access",
   "metadata": {},
   "outputs": [],
   "source": [
    "grid_search = GridSearchCV(estimator = model,param_grid = grid, cv = 3,scoring = 'accuracy')"
   ]
  },
  {
   "cell_type": "code",
   "execution_count": 64,
   "id": "fatty-delhi",
   "metadata": {},
   "outputs": [],
   "source": [
    "res = grid_search.fit(X_train,y_train)"
   ]
  },
  {
   "cell_type": "code",
   "execution_count": 65,
   "id": "asian-polls",
   "metadata": {},
   "outputs": [
    {
     "name": "stdout",
     "output_type": "stream",
     "text": [
      "Best: 0.772569 using {'C': 100, 'max_iter': 500, 'penalty': 'l2', 'solver': 'newton-cg'}\n"
     ]
    }
   ],
   "source": [
    "print(\"Best: %f using %s\" % (res.best_score_,res.best_params_))\n"
   ]
  },
  {
   "cell_type": "code",
   "execution_count": 66,
   "id": "single-conflict",
   "metadata": {},
   "outputs": [
    {
     "name": "stdout",
     "output_type": "stream",
     "text": [
      "0.772569 with: {'C': 100, 'max_iter': 500, 'penalty': 'l2', 'solver': 'newton-cg'}\n",
      "0.772569 with: {'C': 100, 'max_iter': 500, 'penalty': 'l2', 'solver': 'lbfgs'}\n",
      "0.770833 with: {'C': 100, 'max_iter': 500, 'penalty': 'l2', 'solver': 'liblinear'}\n",
      "0.772569 with: {'C': 10, 'max_iter': 500, 'penalty': 'l2', 'solver': 'newton-cg'}\n",
      "0.772569 with: {'C': 10, 'max_iter': 500, 'penalty': 'l2', 'solver': 'lbfgs'}\n",
      "0.763889 with: {'C': 10, 'max_iter': 500, 'penalty': 'l2', 'solver': 'liblinear'}\n",
      "0.767361 with: {'C': 1.0, 'max_iter': 500, 'penalty': 'l2', 'solver': 'newton-cg'}\n",
      "0.765625 with: {'C': 1.0, 'max_iter': 500, 'penalty': 'l2', 'solver': 'lbfgs'}\n",
      "0.763889 with: {'C': 1.0, 'max_iter': 500, 'penalty': 'l2', 'solver': 'liblinear'}\n",
      "0.769097 with: {'C': 0.1, 'max_iter': 500, 'penalty': 'l2', 'solver': 'newton-cg'}\n",
      "0.769097 with: {'C': 0.1, 'max_iter': 500, 'penalty': 'l2', 'solver': 'lbfgs'}\n",
      "0.734375 with: {'C': 0.1, 'max_iter': 500, 'penalty': 'l2', 'solver': 'liblinear'}\n",
      "0.765625 with: {'C': 0.01, 'max_iter': 500, 'penalty': 'l2', 'solver': 'newton-cg'}\n",
      "0.765625 with: {'C': 0.01, 'max_iter': 500, 'penalty': 'l2', 'solver': 'lbfgs'}\n",
      "0.682292 with: {'C': 0.01, 'max_iter': 500, 'penalty': 'l2', 'solver': 'liblinear'}\n"
     ]
    }
   ],
   "source": [
    "means = res.cv_results_['mean_test_score']\n",
    "# stds = grid_result.cv_results_['std_test_score']\n",
    "params = res.cv_results_['params']\n",
    "for mean, param in zip(means, params):\n",
    "    print(\"%f with: %r\" % (mean, param))"
   ]
  },
  {
   "cell_type": "markdown",
   "id": "utility-signature",
   "metadata": {},
   "source": [
    "## doing for test set"
   ]
  },
  {
   "cell_type": "code",
   "execution_count": 67,
   "id": "charged-suite",
   "metadata": {},
   "outputs": [],
   "source": [
    "test_res = grid_search.fit(X_test,y_test)"
   ]
  },
  {
   "cell_type": "code",
   "execution_count": 68,
   "id": "danish-victoria",
   "metadata": {},
   "outputs": [
    {
     "name": "stdout",
     "output_type": "stream",
     "text": [
      "Best: 0.744792 using {'C': 0.1, 'max_iter': 500, 'penalty': 'l2', 'solver': 'newton-cg'}\n"
     ]
    }
   ],
   "source": [
    "print(\"Best: %f using %s\" % (test_res.best_score_,test_res.best_params_))\n"
   ]
  },
  {
   "cell_type": "markdown",
   "id": "allied-latvia",
   "metadata": {},
   "source": [
    "### on doing hp tuning we found that the parametrs used by default gicves the best accuracy so we will use them only\n"
   ]
  },
  {
   "cell_type": "code",
   "execution_count": 69,
   "id": "textile-combat",
   "metadata": {},
   "outputs": [],
   "source": [
    "#pickeling the model for later use"
   ]
  },
  {
   "cell_type": "code",
   "execution_count": 70,
   "id": "macro-feeding",
   "metadata": {},
   "outputs": [],
   "source": [
    "# log_mod = LogisticRegression(random_state = 0, max_iter =500)\n",
    "# log_mod.fit(X_train,y_train)"
   ]
  },
  {
   "cell_type": "code",
   "execution_count": 71,
   "id": "juvenile-flashing",
   "metadata": {},
   "outputs": [],
   "source": [
    "import pickle"
   ]
  },
  {
   "cell_type": "code",
   "execution_count": 72,
   "id": "composite-parks",
   "metadata": {},
   "outputs": [],
   "source": []
  },
  {
   "cell_type": "code",
   "execution_count": 73,
   "id": "saved-strengthening",
   "metadata": {},
   "outputs": [],
   "source": [
    "# pickle.dump(log_mod,open('logistic_mod2.pkl','wb'))"
   ]
  },
  {
   "cell_type": "code",
   "execution_count": null,
   "id": "favorite-visibility",
   "metadata": {},
   "outputs": [],
   "source": []
  }
 ],
 "metadata": {
  "kernelspec": {
   "display_name": "Python 3",
   "language": "python",
   "name": "python3"
  },
  "language_info": {
   "codemirror_mode": {
    "name": "ipython",
    "version": 3
   },
   "file_extension": ".py",
   "mimetype": "text/x-python",
   "name": "python",
   "nbconvert_exporter": "python",
   "pygments_lexer": "ipython3",
   "version": "3.9.1"
  }
 },
 "nbformat": 4,
 "nbformat_minor": 5
}
